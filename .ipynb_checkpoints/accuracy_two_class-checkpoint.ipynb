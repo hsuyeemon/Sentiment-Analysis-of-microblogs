{
 "cells": [
  {
   "cell_type": "markdown",
   "metadata": {},
   "source": [
    "Accuracy of trained 2class all topic svm classifiers"
   ]
  },
  {
   "cell_type": "code",
   "execution_count": 2,
   "metadata": {},
   "outputs": [
    {
     "data": {
      "text/plain": [
       "5415"
      ]
     },
     "execution_count": 2,
     "metadata": {},
     "output_type": "execute_result"
    }
   ],
   "source": [
    "f = open('C:\\\\users\\\\user\\\\desktop\\\\python\\\\data\\\\output\\\\extracted_topic.2class.txt', 'r')\n",
    "lines = f.readlines()\n",
    "f.close()\n",
    "lines\n",
    "total_num_of_tweets = len(lines)\n",
    "total_num_of_tweets\n"
   ]
  },
  {
   "cell_type": "markdown",
   "metadata": {},
   "source": [
    "           number of tweets where the class is correctly predicted\n",
    "accuracy = ---------------------------------------------------------------------------------------\n",
    "                              \n",
    "           total number of tweets"
   ]
  },
  {
   "cell_type": "markdown",
   "metadata": {},
   "source": [
    "Accuracy = 81.1644% (474/584) \n",
    "Accuracy = 79.4473% (460/579)\n",
    "Accuracy = 81.6254% (462/566)\n",
    "Accuracy = 82.3423% (457/555)\n",
    "Accuracy = 80.7692% (441/546)\n",
    "Accuracy = 80.0373% (429/536)\n",
    "Accuracy = 80.8349% (426/527)\n",
    "Accuracy = 80% (412/515)\n",
    "Accuracy = 81.854% (415/507) \n",
    "Accuracy = 78% (390/500)"
   ]
  },
  {
   "cell_type": "code",
   "execution_count": 3,
   "metadata": {},
   "outputs": [],
   "source": [
    "num_tweets_correctly_predicted1 = 474+460+462+457+441+429+426+412+415+390\n",
    "\n",
    "accuracy1 = num_tweets_correctly_predicted1 / total_num_of_tweets * 100"
   ]
  },
  {
   "cell_type": "code",
   "execution_count": 4,
   "metadata": {},
   "outputs": [
    {
     "data": {
      "text/plain": [
       "80.62788550323177"
      ]
     },
     "execution_count": 4,
     "metadata": {},
     "output_type": "execute_result"
    }
   ],
   "source": [
    "accuracy1"
   ]
  },
  {
   "cell_type": "markdown",
   "metadata": {},
   "source": [
    "Accuracy of trained 2class mutually exclusive topics svm classifiers\n",
    "\n",
    "Accuracy = 74.4681% (385/517)\n",
    "Accuracy = 68.1909% (343/503) \n",
    "Accuracy = 81.9699% (491/599)\n",
    "Accuracy = 66.3951% (326/491)\n",
    "Accuracy = 71.2204% (391/549)\n",
    "Accuracy = 79.7468% (441/553)\n",
    "Accuracy = 77.0175% (439/570) \n",
    "Accuracy = 72.9055% (409/561)\n",
    "Accuracy = 76.616% (403/526)\n",
    "Accuracy = 82.7839% (452/546)"
   ]
  },
  {
   "cell_type": "code",
   "execution_count": 5,
   "metadata": {},
   "outputs": [],
   "source": [
    "num_tweets_correctly_predicted2 = 385+343+491+326+391+441+439+409+403+452\n",
    "\n",
    "accuracy2 = num_tweets_correctly_predicted2 / total_num_of_tweets * 100"
   ]
  },
  {
   "cell_type": "code",
   "execution_count": 6,
   "metadata": {},
   "outputs": [
    {
     "data": {
      "text/plain": [
       "75.34626038781164"
      ]
     },
     "execution_count": 6,
     "metadata": {},
     "output_type": "execute_result"
    }
   ],
   "source": [
    "accuracy2  #less that accuracy of dataset1"
   ]
  },
  {
   "cell_type": "code",
   "execution_count": null,
   "metadata": {},
   "outputs": [],
   "source": []
  },
  {
   "cell_type": "markdown",
   "metadata": {},
   "source": [
    "Accuracy of 5 class classification\n"
   ]
  },
  {
   "cell_type": "code",
   "execution_count": 2,
   "metadata": {},
   "outputs": [
    {
     "data": {
      "text/plain": [
       "7641"
      ]
     },
     "execution_count": 2,
     "metadata": {},
     "output_type": "execute_result"
    }
   ],
   "source": [
    "f = open('C:\\\\users\\\\user\\\\desktop\\\\python\\\\data\\\\output\\\\extracted_topic.5class.txt', 'r')\n",
    "lines = f.readlines()\n",
    "f.close()\n",
    "lines\n",
    "total_num_of_tweets = len(lines)\n",
    "total_num_of_tweets\n"
   ]
  },
  {
   "cell_type": "markdown",
   "metadata": {},
   "source": [
    "dataset1\n",
    "Accuracy = 46.4684% (375/807)\n",
    "Accuracy = 45.7071% (362/792)\n",
    "Accuracy = 47.5285% (375/789) \n",
    "Accuracy = 46.6408% (361/774)\n",
    "Accuracy = 46.9974% (360/766)\n",
    "Accuracy = 47.0356% (357/759)\n",
    "Accuracy = 45.6839% (344/753)\n",
    "Accuracy = 50.4032% (375/744)\n",
    "Accuracy = 49.6589% (364/733)\n",
    "Accuracy = 47.1646% (341/723)"
   ]
  },
  {
   "cell_type": "code",
   "execution_count": 7,
   "metadata": {},
   "outputs": [],
   "source": [
    "num_tweets_correctly_predicted1 = 375+362+375+361+360+357+344+375+364+341\n",
    "\n",
    "accuracy1 = round(num_tweets_correctly_predicted1 / total_num_of_tweets * 100,2)"
   ]
  },
  {
   "cell_type": "code",
   "execution_count": 8,
   "metadata": {},
   "outputs": [
    {
     "data": {
      "text/plain": [
       "66.74"
      ]
     },
     "execution_count": 8,
     "metadata": {},
     "output_type": "execute_result"
    }
   ],
   "source": [
    "accuracy1"
   ]
  },
  {
   "cell_type": "markdown",
   "metadata": {},
   "source": [
    "Accuracy = 44.4152% (338/761)\n",
    "Accuracy = 41.2145% (319/774)\n",
    "Accuracy = 45.3836% (349/769)\n",
    "Accuracy = 40.6091% (320/788)\n",
    "Accuracy = 40.2581% (312/775)\n",
    "Accuracy = 47.2513% (361/764) \n",
    "Accuracy = 41.0014% (303/739)\n",
    "Accuracy = 45.8442% (353/770)\n",
    "Accuracy = 43.2396% (323/747) \n",
    "Accuracy = 50.8632% (383/753) "
   ]
  },
  {
   "cell_type": "code",
   "execution_count": 9,
   "metadata": {},
   "outputs": [],
   "source": [
    "num_tweets_correctly_predicted1 = 338+319+349+320+312+361+303+353+323+383\n",
    "\n",
    "accuracy2 = round(num_tweets_correctly_predicted1 / total_num_of_tweets * 100,2)"
   ]
  },
  {
   "cell_type": "code",
   "execution_count": 10,
   "metadata": {},
   "outputs": [
    {
     "data": {
      "text/plain": [
       "62.07"
      ]
     },
     "execution_count": 10,
     "metadata": {},
     "output_type": "execute_result"
    }
   ],
   "source": [
    "accuracy2"
   ]
  },
  {
   "cell_type": "code",
   "execution_count": null,
   "metadata": {},
   "outputs": [],
   "source": []
  }
 ],
 "metadata": {
  "kernelspec": {
   "display_name": "Python 3",
   "language": "python",
   "name": "python3"
  },
  "language_info": {
   "codemirror_mode": {
    "name": "ipython",
    "version": 3
   },
   "file_extension": ".py",
   "mimetype": "text/x-python",
   "name": "python",
   "nbconvert_exporter": "python",
   "pygments_lexer": "ipython3",
   "version": "3.7.0"
  }
 },
 "nbformat": 4,
 "nbformat_minor": 2
}
