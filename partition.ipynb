{
 "cells": [
  {
   "cell_type": "code",
   "execution_count": 1,
   "metadata": {},
   "outputs": [],
   "source": [
    "import numpy as np\n",
    "from sklearn.model_selection import KFold\n",
    "import pandas as pd"
   ]
  },
  {
   "cell_type": "code",
   "execution_count": 2,
   "metadata": {},
   "outputs": [
    {
     "name": "stdout",
     "output_type": "stream",
     "text": [
      "enter the original file name\n",
      "topic.2class.txt\n"
     ]
    }
   ],
   "source": [
    "print(\"enter the original file name\")\n",
    "filename = input()"
   ]
  },
  {
   "cell_type": "code",
   "execution_count": 17,
   "metadata": {},
   "outputs": [],
   "source": [
    "fn = filename[:-4]\n",
    "f = open('C://users//user//desktop//python//data//output//extracted_'+fn+'.txt', 'r')\n",
    "lines = f.readlines()\n",
    "f.close()"
   ]
  },
  {
   "cell_type": "code",
   "execution_count": 18,
   "metadata": {},
   "outputs": [],
   "source": [
    "arr= [];\n",
    "#print(len(lines))\n",
    "for  i  in  range ( len(lines) ): \n",
    "    arr.append(lines[i].split('\\t'))\n"
   ]
  },
  {
   "cell_type": "code",
   "execution_count": 19,
   "metadata": {},
   "outputs": [
    {
     "name": "stdout",
     "output_type": "stream",
     "text": [
      "['positive', 'Jay Z joins Instagram nostalgic tribute Michael Jackson apparently joined Saturday\\n']\n"
     ]
    }
   ],
   "source": [
    "print(arr[0])"
   ]
  },
  {
   "cell_type": "code",
   "execution_count": 20,
   "metadata": {},
   "outputs": [],
   "source": [
    "#topics\n",
    "f1 = open('C://users//user//desktop//python//data//input//'+filename, 'r')\n",
    "l = f1.readlines()\n",
    "f1.close()\n"
   ]
  },
  {
   "cell_type": "code",
   "execution_count": 21,
   "metadata": {},
   "outputs": [],
   "source": [
    "a= [];\n",
    "#print(len(l))\n",
    "for  j  in  range ( len(l) ): \n",
    "    a.append(l[j].split('\\t'))"
   ]
  },
  {
   "cell_type": "code",
   "execution_count": 22,
   "metadata": {},
   "outputs": [],
   "source": [
    "#print(len(a))\n",
    "\n",
    "cleanlist = []\n",
    "for j in range (len(a)):\n",
    "    if a[j][1] not in cleanlist :\n",
    "        cleanlist.append(a[j][1])\n"
   ]
  },
  {
   "cell_type": "code",
   "execution_count": 23,
   "metadata": {},
   "outputs": [],
   "source": [
    "#print(len(cleanlist))\n",
    "X=[]\n",
    "Y=[]\n",
    "for i in range(len(cleanlist)):\n",
    "    XX = []\n",
    "    YY = []\n",
    "    for j in range(len(a)-1):\n",
    "        if a[j][1] == cleanlist[i] :\n",
    "            #print(arr[j])\n",
    "            #XX.append(arr[j][1])\n",
    "            XX.append(arr[j])\n",
    "            YY.append(arr[j][0])\n",
    "    \n",
    "    X.append(XX)\n",
    "    Y.append(len(XX))"
   ]
  },
  {
   "cell_type": "code",
   "execution_count": 24,
   "metadata": {},
   "outputs": [],
   "source": [
    "###data set 1\n",
    "b = []\n",
    "maxim = max(Y)\n",
    "i = 0\n",
    "for j in range (maxim):\n",
    "    bb = []\n",
    "    for k in range (len(cleanlist)):\n",
    "        try:\n",
    "            bb.append(X[k][j])\n",
    "        except IndexError:continue\n",
    "    b.append(bb)"
   ]
  },
  {
   "cell_type": "code",
   "execution_count": 25,
   "metadata": {},
   "outputs": [],
   "source": [
    "kf = KFold(n_splits=10)\n",
    "i = 0;\n",
    "trainIndex = []\n",
    "testIndex = []\n"
   ]
  },
  {
   "cell_type": "code",
   "execution_count": 26,
   "metadata": {},
   "outputs": [
    {
     "name": "stdout",
     "output_type": "stream",
     "text": [
      "train index [ 8  9 10 11 12 13 14 15 16 17 18 19 20 21 22 23 24 25 26 27 28 29 30 31\n",
      " 32 33 34 35 36 37 38 39 40 41 42 43 44 45 46 47 48 49 50 51 52 53 54 55\n",
      " 56 57 58 59 60 61 62 63 64 65 66 67 68 69 70 71 72 73 74 75 76 77 78 79]\n",
      "test index [0 1 2 3 4 5 6 7]\n",
      "train index [ 0  1  2  3  4  5  6  7 16 17 18 19 20 21 22 23 24 25 26 27 28 29 30 31\n",
      " 32 33 34 35 36 37 38 39 40 41 42 43 44 45 46 47 48 49 50 51 52 53 54 55\n",
      " 56 57 58 59 60 61 62 63 64 65 66 67 68 69 70 71 72 73 74 75 76 77 78 79]\n",
      "test index [ 8  9 10 11 12 13 14 15]\n",
      "train index [ 0  1  2  3  4  5  6  7  8  9 10 11 12 13 14 15 24 25 26 27 28 29 30 31\n",
      " 32 33 34 35 36 37 38 39 40 41 42 43 44 45 46 47 48 49 50 51 52 53 54 55\n",
      " 56 57 58 59 60 61 62 63 64 65 66 67 68 69 70 71 72 73 74 75 76 77 78 79]\n",
      "test index [16 17 18 19 20 21 22 23]\n",
      "train index [ 0  1  2  3  4  5  6  7  8  9 10 11 12 13 14 15 16 17 18 19 20 21 22 23\n",
      " 32 33 34 35 36 37 38 39 40 41 42 43 44 45 46 47 48 49 50 51 52 53 54 55\n",
      " 56 57 58 59 60 61 62 63 64 65 66 67 68 69 70 71 72 73 74 75 76 77 78 79]\n",
      "test index [24 25 26 27 28 29 30 31]\n",
      "train index [ 0  1  2  3  4  5  6  7  8  9 10 11 12 13 14 15 16 17 18 19 20 21 22 23\n",
      " 24 25 26 27 28 29 30 31 40 41 42 43 44 45 46 47 48 49 50 51 52 53 54 55\n",
      " 56 57 58 59 60 61 62 63 64 65 66 67 68 69 70 71 72 73 74 75 76 77 78 79]\n",
      "test index [32 33 34 35 36 37 38 39]\n",
      "train index [ 0  1  2  3  4  5  6  7  8  9 10 11 12 13 14 15 16 17 18 19 20 21 22 23\n",
      " 24 25 26 27 28 29 30 31 32 33 34 35 36 37 38 39 48 49 50 51 52 53 54 55\n",
      " 56 57 58 59 60 61 62 63 64 65 66 67 68 69 70 71 72 73 74 75 76 77 78 79]\n",
      "test index [40 41 42 43 44 45 46 47]\n",
      "train index [ 0  1  2  3  4  5  6  7  8  9 10 11 12 13 14 15 16 17 18 19 20 21 22 23\n",
      " 24 25 26 27 28 29 30 31 32 33 34 35 36 37 38 39 40 41 42 43 44 45 46 47\n",
      " 56 57 58 59 60 61 62 63 64 65 66 67 68 69 70 71 72 73 74 75 76 77 78 79]\n",
      "test index [48 49 50 51 52 53 54 55]\n",
      "train index [ 0  1  2  3  4  5  6  7  8  9 10 11 12 13 14 15 16 17 18 19 20 21 22 23\n",
      " 24 25 26 27 28 29 30 31 32 33 34 35 36 37 38 39 40 41 42 43 44 45 46 47\n",
      " 48 49 50 51 52 53 54 55 64 65 66 67 68 69 70 71 72 73 74 75 76 77 78 79]\n",
      "test index [56 57 58 59 60 61 62 63]\n",
      "train index [ 0  1  2  3  4  5  6  7  8  9 10 11 12 13 14 15 16 17 18 19 20 21 22 23\n",
      " 24 25 26 27 28 29 30 31 32 33 34 35 36 37 38 39 40 41 42 43 44 45 46 47\n",
      " 48 49 50 51 52 53 54 55 56 57 58 59 60 61 62 63 72 73 74 75 76 77 78 79]\n",
      "test index [64 65 66 67 68 69 70 71]\n",
      "train index [ 0  1  2  3  4  5  6  7  8  9 10 11 12 13 14 15 16 17 18 19 20 21 22 23\n",
      " 24 25 26 27 28 29 30 31 32 33 34 35 36 37 38 39 40 41 42 43 44 45 46 47\n",
      " 48 49 50 51 52 53 54 55 56 57 58 59 60 61 62 63 64 65 66 67 68 69 70 71]\n",
      "test index [72 73 74 75 76 77 78 79]\n"
     ]
    }
   ],
   "source": [
    "for train, test in kf.split (b):\n",
    "    trainIndex.append(train)\n",
    "    testIndex.append(test)\n",
    "    print('train index',train)\n",
    "    print('test index',test)"
   ]
  },
  {
   "cell_type": "code",
   "execution_count": null,
   "metadata": {},
   "outputs": [],
   "source": [
    "for i in range(10):\n",
    "    f1 = open('C://users//user//desktop//python//data//dataset1_'+fn+'/train'+str(i)+'.txt',\"w\") \n",
    "    f2 = open('C://users//user//desktop//python//data/dataset1_'+fn+'/test'+str(i)+'.txt',\"w\")\n",
    "    for j in range (len(trainIndex[i])):\n",
    "        ti = trainIndex[i][j]\n",
    "        for k in range (len(b[ti])):\n",
    "            print(trainIndex[i][j])\n",
    "        \n",
    "            print(i,j)\n",
    "            print(b[ti][k][0])\n",
    "            f1.write(str(b[ti][k][0]))\n",
    "            f1.write(\"\\t\")\n",
    "            f1.write(str(b[ti][k][1]))\n",
    "    for j in range (len(testIndex[i])):\n",
    "        ti = testIndex[i][j]\n",
    "        for k in range (len(b[ti])):\n",
    "            print(testIndex[i][j])\n",
    "        \n",
    "            print(i,j)\n",
    "            print(b[ti][k][0])\n",
    "            f2.write(str(b[ti][k][0]))\n",
    "            f2.write(\"\\t\")\n",
    "            f2.write(str(b[ti][k][1]))\n",
    "    \n",
    "    f1.close();\n",
    "    f2.close();\n"
   ]
  },
  {
   "cell_type": "code",
   "execution_count": 27,
   "metadata": {},
   "outputs": [],
   "source": [
    "####data set 2\n",
    "\n",
    "kf = KFold(n_splits=10)\n",
    "i = 0;\n",
    "trainIndex = []\n",
    "testIndex = []"
   ]
  },
  {
   "cell_type": "code",
   "execution_count": 28,
   "metadata": {},
   "outputs": [
    {
     "name": "stdout",
     "output_type": "stream",
     "text": [
      "train index [10 11 12 13 14 15 16 17 18 19 20 21 22 23 24 25 26 27 28 29 30 31 32 33\n",
      " 34 35 36 37 38 39 40 41 42 43 44 45 46 47 48 49 50 51 52 53 54 55 56 57\n",
      " 58 59 60 61 62 63 64 65 66 67 68 69 70 71 72 73 74 75 76 77 78 79 80 81\n",
      " 82 83 84 85 86 87 88 89 90 91 92 93 94 95 96 97 98 99]\n",
      "test index [0 1 2 3 4 5 6 7 8 9]\n",
      "train index [ 0  1  2  3  4  5  6  7  8  9 20 21 22 23 24 25 26 27 28 29 30 31 32 33\n",
      " 34 35 36 37 38 39 40 41 42 43 44 45 46 47 48 49 50 51 52 53 54 55 56 57\n",
      " 58 59 60 61 62 63 64 65 66 67 68 69 70 71 72 73 74 75 76 77 78 79 80 81\n",
      " 82 83 84 85 86 87 88 89 90 91 92 93 94 95 96 97 98 99]\n",
      "test index [10 11 12 13 14 15 16 17 18 19]\n",
      "train index [ 0  1  2  3  4  5  6  7  8  9 10 11 12 13 14 15 16 17 18 19 30 31 32 33\n",
      " 34 35 36 37 38 39 40 41 42 43 44 45 46 47 48 49 50 51 52 53 54 55 56 57\n",
      " 58 59 60 61 62 63 64 65 66 67 68 69 70 71 72 73 74 75 76 77 78 79 80 81\n",
      " 82 83 84 85 86 87 88 89 90 91 92 93 94 95 96 97 98 99]\n",
      "test index [20 21 22 23 24 25 26 27 28 29]\n",
      "train index [ 0  1  2  3  4  5  6  7  8  9 10 11 12 13 14 15 16 17 18 19 20 21 22 23\n",
      " 24 25 26 27 28 29 40 41 42 43 44 45 46 47 48 49 50 51 52 53 54 55 56 57\n",
      " 58 59 60 61 62 63 64 65 66 67 68 69 70 71 72 73 74 75 76 77 78 79 80 81\n",
      " 82 83 84 85 86 87 88 89 90 91 92 93 94 95 96 97 98 99]\n",
      "test index [30 31 32 33 34 35 36 37 38 39]\n",
      "train index [ 0  1  2  3  4  5  6  7  8  9 10 11 12 13 14 15 16 17 18 19 20 21 22 23\n",
      " 24 25 26 27 28 29 30 31 32 33 34 35 36 37 38 39 50 51 52 53 54 55 56 57\n",
      " 58 59 60 61 62 63 64 65 66 67 68 69 70 71 72 73 74 75 76 77 78 79 80 81\n",
      " 82 83 84 85 86 87 88 89 90 91 92 93 94 95 96 97 98 99]\n",
      "test index [40 41 42 43 44 45 46 47 48 49]\n",
      "train index [ 0  1  2  3  4  5  6  7  8  9 10 11 12 13 14 15 16 17 18 19 20 21 22 23\n",
      " 24 25 26 27 28 29 30 31 32 33 34 35 36 37 38 39 40 41 42 43 44 45 46 47\n",
      " 48 49 60 61 62 63 64 65 66 67 68 69 70 71 72 73 74 75 76 77 78 79 80 81\n",
      " 82 83 84 85 86 87 88 89 90 91 92 93 94 95 96 97 98 99]\n",
      "test index [50 51 52 53 54 55 56 57 58 59]\n",
      "train index [ 0  1  2  3  4  5  6  7  8  9 10 11 12 13 14 15 16 17 18 19 20 21 22 23\n",
      " 24 25 26 27 28 29 30 31 32 33 34 35 36 37 38 39 40 41 42 43 44 45 46 47\n",
      " 48 49 50 51 52 53 54 55 56 57 58 59 70 71 72 73 74 75 76 77 78 79 80 81\n",
      " 82 83 84 85 86 87 88 89 90 91 92 93 94 95 96 97 98 99]\n",
      "test index [60 61 62 63 64 65 66 67 68 69]\n",
      "train index [ 0  1  2  3  4  5  6  7  8  9 10 11 12 13 14 15 16 17 18 19 20 21 22 23\n",
      " 24 25 26 27 28 29 30 31 32 33 34 35 36 37 38 39 40 41 42 43 44 45 46 47\n",
      " 48 49 50 51 52 53 54 55 56 57 58 59 60 61 62 63 64 65 66 67 68 69 80 81\n",
      " 82 83 84 85 86 87 88 89 90 91 92 93 94 95 96 97 98 99]\n",
      "test index [70 71 72 73 74 75 76 77 78 79]\n",
      "train index [ 0  1  2  3  4  5  6  7  8  9 10 11 12 13 14 15 16 17 18 19 20 21 22 23\n",
      " 24 25 26 27 28 29 30 31 32 33 34 35 36 37 38 39 40 41 42 43 44 45 46 47\n",
      " 48 49 50 51 52 53 54 55 56 57 58 59 60 61 62 63 64 65 66 67 68 69 70 71\n",
      " 72 73 74 75 76 77 78 79 90 91 92 93 94 95 96 97 98 99]\n",
      "test index [80 81 82 83 84 85 86 87 88 89]\n",
      "train index [ 0  1  2  3  4  5  6  7  8  9 10 11 12 13 14 15 16 17 18 19 20 21 22 23\n",
      " 24 25 26 27 28 29 30 31 32 33 34 35 36 37 38 39 40 41 42 43 44 45 46 47\n",
      " 48 49 50 51 52 53 54 55 56 57 58 59 60 61 62 63 64 65 66 67 68 69 70 71\n",
      " 72 73 74 75 76 77 78 79 80 81 82 83 84 85 86 87 88 89]\n",
      "test index [90 91 92 93 94 95 96 97 98 99]\n"
     ]
    }
   ],
   "source": [
    "for train, test in kf.split (cleanlist):\n",
    "    trainIndex.append(train)\n",
    "    testIndex.append(test)\n",
    "    \n",
    "    # If this is the case,\n",
    "    print('train index',train)\n",
    "    print('test index',test)"
   ]
  },
  {
   "cell_type": "code",
   "execution_count": null,
   "metadata": {},
   "outputs": [],
   "source": [
    "for i in range(10):\n",
    "    f1 = open('C://users//user//desktop//python//data//dataset2_'+fn+'/train'+str(i)+'.txt',\"w\") \n",
    "    f2 = open('C://users//user//desktop//python//data//dataset2_'+fn+'/test'+str(i)+'.txt',\"w\")\n",
    "    for j in range (len(trainIndex[i])):\n",
    "        ti = trainIndex[i][j]\n",
    "        for k in range (len(X[ti])):\n",
    "            print(trainIndex[i][j])\n",
    "        \n",
    "            print(i,j)\n",
    "            print(X[ti][k][0])\n",
    "            f1.write(str(X[ti][k][0]))\n",
    "            f1.write(\"\\t\")\n",
    "            f1.write(str(X[ti][k][1]))\n",
    "    for l in range (len(testIndex[i])):\n",
    "        ti = testIndex[i][l]\n",
    "        for m in range (len(X[ti])):\n",
    "            print(testIndex[i][l])\n",
    "        \n",
    "            print(i,l)\n",
    "            print(X[ti][m][0])\n",
    "            f2.write(str(X[ti][m][0]))\n",
    "            f2.write(\"\\t\")\n",
    "            f2.write(str(X[ti][m][1]))\n",
    "\n",
    "    f1.close()\n",
    "    f2.close()"
   ]
  }
 ],
 "metadata": {
  "kernelspec": {
   "display_name": "Python 3",
   "language": "python",
   "name": "python3"
  },
  "language_info": {
   "codemirror_mode": {
    "name": "ipython",
    "version": 3
   },
   "file_extension": ".py",
   "mimetype": "text/x-python",
   "name": "python",
   "nbconvert_exporter": "python",
   "pygments_lexer": "ipython3",
   "version": "3.7.0"
  }
 },
 "nbformat": 4,
 "nbformat_minor": 2
}
