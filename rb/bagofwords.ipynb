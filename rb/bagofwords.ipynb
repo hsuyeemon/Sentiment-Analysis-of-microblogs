{
 "cells": [
  {
   "cell_type": "code",
   "execution_count": null,
   "metadata": {},
   "outputs": [],
   "source": [
    "import MeCab\n",
    "import pandas as pd\n",
    "import numpy as np\n",
    "from sklearn import svm\n",
    "from sklearn.grid_search import GridSearchCV\n",
    "from sklearn.feature_extraction.text import CountVectorizer"
   ]
  },
  {
   "cell_type": "code",
   "execution_count": null,
   "metadata": {},
   "outputs": [],
   "source": [
    "def wakati(text):\n",
    "    tagger = MeCab.Tagger()\n",
    "    #text = text.encode(\"utf-8\")\n",
    "    node = tagger.parseToNode(text)\n",
    "    word_list = []\n",
    "    while node:\n",
    "        pos = node.feature.split(\",\")[0]\n",
    "        if pos in [\"名詞\", \"動詞\", \"形容詞\"]:\n",
    "            lemma = node.feature.split(\",\")[6].decode(\"utf-8\")\n",
    "            if lemma == u\"*\":\n",
    "                lemma = node.surface.decode(\"utf-8\")\n",
    "            word_list.append(lemma)\n",
    "        node = node.next\n",
    "    return u\" \".join(word_list[1:-1])"
   ]
  }
 ],
 "metadata": {
  "kernelspec": {
   "display_name": "Python 3",
   "language": "python",
   "name": "python3"
  },
  "language_info": {
   "codemirror_mode": {
    "name": "ipython",
    "version": 3
   },
   "file_extension": ".py",
   "mimetype": "text/x-python",
   "name": "python",
   "nbconvert_exporter": "python",
   "pygments_lexer": "ipython3",
   "version": "3.7.0"
  }
 },
 "nbformat": 4,
 "nbformat_minor": 2
}
