{
 "cells": [
  {
   "cell_type": "code",
   "execution_count": 1,
   "metadata": {},
   "outputs": [
    {
     "name": "stdout",
     "output_type": "stream",
     "text": [
      "enter the original file name\n",
      "topic.2class.txt\n"
     ]
    }
   ],
   "source": [
    "print(\"enter the original file name\")\n",
    "filename = input()\n",
    "\n",
    "fn = filename[:-4]"
   ]
  },
  {
   "cell_type": "code",
   "execution_count": 2,
   "metadata": {},
   "outputs": [],
   "source": [
    "#remove the duplicate words in list\n",
    "def unique_list(l):\n",
    "    ulist = []\n",
    "    [ulist.append(x) for x in l if x not in ulist]\n",
    "    return ulist"
   ]
  },
  {
   "cell_type": "code",
   "execution_count": 3,
   "metadata": {},
   "outputs": [],
   "source": [
    "#read from tokenized tweets\n",
    "f = open('C://users//user//desktop//python//data//output//tokenized_'+fn+'.txt','r')\n",
    "temp = f.readlines();\n",
    "f.close();"
   ]
  },
  {
   "cell_type": "code",
   "execution_count": 4,
   "metadata": {},
   "outputs": [],
   "source": [
    "#split the tokens,types,confidence and original text\n",
    "tokens = []\n",
    "#print(len(temp))\n",
    "for i in range (len(temp)):\n",
    "  tokens.append(temp[i].split('\\t'))"
   ]
  },
  {
   "cell_type": "code",
   "execution_count": 5,
   "metadata": {},
   "outputs": [],
   "source": [
    "#split the tokens and types into arrays\n",
    "for i in range(len(tokens)):\n",
    "    tokens[i][0]=tokens[i][0].split(\" \")\n",
    "    tokens[i][1]=tokens[i][1].split(\" \")"
   ]
  },
  {
   "cell_type": "code",
   "execution_count": 6,
   "metadata": {},
   "outputs": [],
   "source": [
    "#remove the non-content words\n",
    "featurePosList = {'N','O','^','S','Z','V','A','R','!','#','E'}\n",
    "extractedFeatures = []"
   ]
  },
  {
   "cell_type": "code",
   "execution_count": 7,
   "metadata": {},
   "outputs": [],
   "source": [
    "for i in range(len(tokens)):\n",
    "    str=\"\"\n",
    "    for j in range(len(tokens[i][1])):\n",
    "        if(tokens[i][1][j] in featurePosList):\n",
    "            str+=tokens[i][0][j]\n",
    "            str+=\" \"\n",
    "    #print(str);\n",
    "    str=' '.join(unique_list(str.split()))\n",
    "    extractedFeatures.append(str)\n"
   ]
  },
  {
   "cell_type": "code",
   "execution_count": 9,
   "metadata": {},
   "outputs": [],
   "source": [
    "#relate with classes from original text file\n",
    "f = open('C://users//user//desktop//python//data//input//'+filename,'r')\n",
    "lines = f.readlines()\n",
    "f.close()"
   ]
  },
  {
   "cell_type": "code",
   "execution_count": 10,
   "metadata": {},
   "outputs": [],
   "source": [
    "arr= [];\n",
    "#print(len(lines))\n",
    "for i in range ( len(lines) ): \n",
    "    arr.append(lines[i].split('\\t'))\n"
   ]
  },
  {
   "cell_type": "code",
   "execution_count": 11,
   "metadata": {},
   "outputs": [
    {
     "data": {
      "text/plain": [
       "'michael jackson'"
      ]
     },
     "execution_count": 11,
     "metadata": {},
     "output_type": "execute_result"
    }
   ],
   "source": [
    "arr[0][1]"
   ]
  },
  {
   "cell_type": "code",
   "execution_count": 12,
   "metadata": {},
   "outputs": [],
   "source": [
    "#write the extracted features\n",
    "file = open('C://users//user//desktop//python//data//output//extracted_topic_'+fn+'.txt','w') \n",
    "for  i  in  range (len(temp)): \n",
    "    text = arr[i][2];\n",
    "    file.write(arr[i][1])\n",
    "    file.write('\\t')\n",
    "    file.write(text);\n",
    "    file.write('\\t');\n",
    "    file.write(extractedFeatures[i]);\n",
    "    file.write('\\n');\n",
    "    \n",
    "file.close() "
   ]
  },
  {
   "cell_type": "code",
   "execution_count": null,
   "metadata": {},
   "outputs": [],
   "source": []
  }
 ],
 "metadata": {
  "kernelspec": {
   "display_name": "Python 3",
   "language": "python",
   "name": "python3"
  },
  "language_info": {
   "codemirror_mode": {
    "name": "ipython",
    "version": 3
   },
   "file_extension": ".py",
   "mimetype": "text/x-python",
   "name": "python",
   "nbconvert_exporter": "python",
   "pygments_lexer": "ipython3",
   "version": "3.7.0"
  }
 },
 "nbformat": 4,
 "nbformat_minor": 2
}
