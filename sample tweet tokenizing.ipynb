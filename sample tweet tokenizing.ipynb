{
 "cells": [
  {
   "cell_type": "code",
   "execution_count": 10,
   "metadata": {},
   "outputs": [],
   "source": [
    "import subprocess\n",
    "import numpy as np\n",
    "\n",
    "\n",
    "\n",
    "p = subprocess.check_output('java -XX:ParallelGCThreads=2 -Xmx500m -jar ../ark-tweet-nlp-0.3.2.jar ../examples/sample.txt')"
   ]
  },
  {
   "cell_type": "code",
   "execution_count": 11,
   "metadata": {},
   "outputs": [
    {
     "name": "stdout",
     "output_type": "stream",
     "text": [
      "b\"Google is not accounting for local culture in driving patterns .\\t^ V R N P A N P V N ,\\t0.9766 0.9953 0.9920 0.6011 0.9987 0.9830 0.9978 0.9947 0.5704 0.9873 0.9986\\tGoogle is not accounting for local culture in driving patterns.\\r\\nIt's Beyonce's birthday . It's a good day . #HappyBirthday\\tL Z N , L D A N , #\\t0.9959 0.5817 0.9957 0.9988 0.9962 0.9921 0.9991 0.9990 0.9993 0.8371\\tIt's Beyonce's birthday. It's a good day. #HappyBirthday\\r\\n\"\n"
     ]
    }
   ],
   "source": [
    "print (p)"
   ]
  },
  {
   "cell_type": "code",
   "execution_count": 3,
   "metadata": {},
   "outputs": [
    {
     "data": {
      "text/plain": [
       "('Apple', 'Orange', 'HoneyDrew')"
      ]
     },
     "execution_count": 3,
     "metadata": {},
     "output_type": "execute_result"
    }
   ],
   "source": [
    "#\"MATCHES__STRING\".split(\"__\")\n",
    "a=\"Apple,Orange,HoneyDrew\"\n",
    "x,y,z=a.split(',')\n",
    "x,y,z"
   ]
  },
  {
   "cell_type": "code",
   "execution_count": 9,
   "metadata": {},
   "outputs": [
    {
     "ename": "ValueError",
     "evalue": "too many values to unpack (expected 4)",
     "output_type": "error",
     "traceback": [
      "\u001b[1;31m---------------------------------------------------------------------------\u001b[0m",
      "\u001b[1;31mValueError\u001b[0m                                Traceback (most recent call last)",
      "\u001b[1;32m<ipython-input-9-c151ea3643fb>\u001b[0m in \u001b[0;36m<module>\u001b[1;34m()\u001b[0m\n\u001b[1;32m----> 1\u001b[1;33m \u001b[0mtokenizedStr\u001b[0m\u001b[1;33m,\u001b[0m\u001b[0mtypes\u001b[0m\u001b[1;33m,\u001b[0m\u001b[0mconfidence\u001b[0m\u001b[1;33m,\u001b[0m\u001b[0moriginalStr\u001b[0m \u001b[1;33m=\u001b[0m \u001b[0mp\u001b[0m\u001b[1;33m.\u001b[0m\u001b[0mdecode\u001b[0m\u001b[1;33m(\u001b[0m\u001b[1;33m)\u001b[0m\u001b[1;33m.\u001b[0m\u001b[0msplit\u001b[0m\u001b[1;33m(\u001b[0m\u001b[1;34m'\\t'\u001b[0m\u001b[1;33m)\u001b[0m\u001b[1;33m\u001b[0m\u001b[0m\n\u001b[0m",
      "\u001b[1;31mValueError\u001b[0m: too many values to unpack (expected 4)"
     ]
    }
   ],
   "source": [
    "tokenizedStr,types,confidence,originalStr = p.decode().split('\\t')"
   ]
  },
  {
   "cell_type": "code",
   "execution_count": 5,
   "metadata": {},
   "outputs": [
    {
     "data": {
      "text/plain": [
       "('Google is not accounting for local culture in driving patterns .',\n",
       " '^ V R N P A N P V N ,',\n",
       " '0.9766 0.9953 0.9920 0.6011 0.9987 0.9830 0.9978 0.9947 0.5704 0.9873 0.9986',\n",
       " 'Google is not accounting for local culture in driving patterns.\\r\\n')"
      ]
     },
     "execution_count": 5,
     "metadata": {},
     "output_type": "execute_result"
    }
   ],
   "source": [
    "tokenizedStr,types,confidence,originalStr"
   ]
  },
  {
   "cell_type": "code",
   "execution_count": 6,
   "metadata": {},
   "outputs": [],
   "source": [
    "arr1 = tokenizedStr.split(' ')\n",
    "arr2 = types.split(' ')\n",
    "arr3 = confidence.split(' ')"
   ]
  },
  {
   "cell_type": "code",
   "execution_count": 7,
   "metadata": {},
   "outputs": [
    {
     "data": {
      "text/plain": [
       "['0.9766',\n",
       " '0.9953',\n",
       " '0.9920',\n",
       " '0.6011',\n",
       " '0.9987',\n",
       " '0.9830',\n",
       " '0.9978',\n",
       " '0.9947',\n",
       " '0.5704',\n",
       " '0.9873',\n",
       " '0.9986']"
      ]
     },
     "execution_count": 7,
     "metadata": {},
     "output_type": "execute_result"
    }
   ],
   "source": [
    "arr3"
   ]
  },
  {
   "cell_type": "code",
   "execution_count": 8,
   "metadata": {},
   "outputs": [],
   "source": [
    "#a = np.append([[1, 2, 3], [4, 5, 6]], [[7, 8, 9]], axis=0)\n",
    "#for  i  in  range ( len(arr1) ): \n",
    "   #np.append([[arr1[i]], [arr2[i]],[arr3[i]]], axis=0)"
   ]
  },
  {
   "cell_type": "code",
   "execution_count": 9,
   "metadata": {},
   "outputs": [],
   "source": [
    "# Creates a list containing 5 lists, each of 8 items, all set to 0\n",
    "#w, h = 8, 5;\n",
    "#Matrix = [[0 for x in range(w)] for y in range(h)] \n",
    "#Matrix"
   ]
  },
  {
   "cell_type": "code",
   "execution_count": 62,
   "metadata": {},
   "outputs": [
    {
     "data": {
      "text/plain": [
       "[['Google', '^', '0.9766']]"
      ]
     },
     "execution_count": 62,
     "metadata": {},
     "output_type": "execute_result"
    }
   ],
   "source": [
    "#a = np.matrix([arr1[0],arr2[0],arr3[0]])\n",
    "\n",
    "#a = [[arr1[0],arr2[0],arr3[0]]];\n",
    "#for  i in  range ( len(arr1) ): \n",
    "    #np.append(a,[[arr1[i], arr2[i],arr3[i]]],axis=0);\n",
    "    #np.concatenate((a,[[arr1[i], arr2[i],arr3[i]]]),1);\n",
    "\n",
    "#a"
   ]
  },
  {
   "cell_type": "code",
   "execution_count": 77,
   "metadata": {},
   "outputs": [
    {
     "name": "stdout",
     "output_type": "stream",
     "text": [
      "[['Google', '^', '0.9766'], ['is', 'V', '0.9953'], ['not', 'R', '0.9920'], ['accounting', 'N', '0.6011'], ['for', 'P', '0.9987'], ['local', 'A', '0.9830'], ['culture', 'N', '0.9978'], ['in', 'P', '0.9947'], ['driving', 'V', '0.5704'], ['patterns', 'N', '0.9873'], ['.', ',', '0.9986']]\n"
     ]
    }
   ],
   "source": [
    "w = len(arr1);\n",
    "h = 3;\n",
    "a = [[0 for x in range(h)] for y in range(w)] \n",
    "for i in range (len(arr1)):\n",
    "    a[i][0] = arr1[i];\n",
    "    a[i][1] = arr2[i];\n",
    "    a[i][2] = arr3[i];\n",
    "    \n",
    "print (a)    "
   ]
  },
  {
   "cell_type": "code",
   "execution_count": null,
   "metadata": {},
   "outputs": [],
   "source": [
    "w = len(arr1);\n",
    "h = 3;\n",
    "b = [[0 for x in range(h)] for y in range(w)] \n",
    "\n"
   ]
  },
  {
   "cell_type": "code",
   "execution_count": null,
   "metadata": {},
   "outputs": [],
   "source": []
  },
  {
   "cell_type": "code",
   "execution_count": null,
   "metadata": {},
   "outputs": [],
   "source": []
  },
  {
   "cell_type": "code",
   "execution_count": null,
   "metadata": {},
   "outputs": [],
   "source": []
  }
 ],
 "metadata": {
  "kernelspec": {
   "display_name": "Python 3",
   "language": "python",
   "name": "python3"
  },
  "language_info": {
   "codemirror_mode": {
    "name": "ipython",
    "version": 3
   },
   "file_extension": ".py",
   "mimetype": "text/x-python",
   "name": "python",
   "nbconvert_exporter": "python",
   "pygments_lexer": "ipython3",
   "version": "3.7.0"
  }
 },
 "nbformat": 4,
 "nbformat_minor": 2
}
