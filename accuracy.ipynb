{
 "cells": [
  {
   "cell_type": "markdown",
   "metadata": {},
   "source": [
    "Accuracy of trained 2class all topic svm classifiers"
   ]
  },
  {
   "cell_type": "code",
   "execution_count": 3,
   "metadata": {},
   "outputs": [
    {
     "data": {
      "text/plain": [
       "5415"
      ]
     },
     "execution_count": 3,
     "metadata": {},
     "output_type": "execute_result"
    }
   ],
   "source": [
    "f = open('E:\\\\data\\\\output\\\\extracted.2class.txt', 'r')\n",
    "lines = f.readlines()\n",
    "f.close()\n",
    "lines\n",
    "total_num_of_tweets = len(lines)\n",
    "total_num_of_tweets\n"
   ]
  },
  {
   "cell_type": "markdown",
   "metadata": {},
   "source": [
    "           number of tweets where the class is correctly predicted\n",
    "accuracy = ---------------------------------------------------------------------------------------\n",
    "                              \n",
    "           total number of tweets\n",
    "Accuracy = 75.0842% (223/297) (classification)\n",
    "Accuracy = 78.1145% (232/297) (classification)\n",
    "Accuracy = 79.4613% (236/297) (classification)\n",
    "Accuracy = 80.4714% (239/297) (classification)\n",
    "Accuracy = 79.4613% (236/297) (classification)\n",
    "Accuracy = 76.431% (227/297) (classification)\n",
    "Accuracy = 78.7879% (234/297) (classification)\n",
    "Accuracy = 76.7677% (228/297) (classification)\n",
    "Accuracy = 76.0943% (226/297) (classification)\n",
    "Accuracy = 76.0943% (226/297) (classification)"
   ]
  },
  {
   "cell_type": "code",
   "execution_count": 10,
   "metadata": {},
   "outputs": [],
   "source": [
    "num_tweets_correctly_predicted1 = 621+637+619+624+596+542+403+206+100+18\n",
    "\n",
    "accuracy1 = round(num_tweets_correctly_predicted1 / total_num_of_tweets * 100,2)"
   ]
  },
  {
   "cell_type": "code",
   "execution_count": 11,
   "metadata": {},
   "outputs": [
    {
     "data": {
      "text/plain": [
       "80.63"
      ]
     },
     "execution_count": 11,
     "metadata": {},
     "output_type": "execute_result"
    }
   ],
   "source": [
    "accuracy1"
   ]
  },
  {
   "cell_type": "markdown",
   "metadata": {},
   "source": [
    "Accuracy of trained 2class mutually exclusive topics svm classifiers\n",
    "\n",
    "\n",
    "Accuracy = 76.4023% (395/517) (classification)\n",
    "Accuracy = 70.7753% (356/503) (classification)\n",
    "Accuracy = 89.4825% (536/599) (classification)\n",
    "Accuracy = 69.4501% (341/491) (classification)\n",
    "Accuracy = 75.9563% (417/549) (classification)\n",
    "Accuracy = 88.4268% (489/553) (classification)\n",
    "Accuracy = 79.8246% (455/570) (classification)\n",
    "Accuracy = 80.2139% (450/561) (classification)\n",
    "Accuracy = 81.3688% (428/526) (classification)\n",
    "Accuracy = 90.9677% (423/465) (classification)"
   ]
  },
  {
   "cell_type": "code",
   "execution_count": 12,
   "metadata": {},
   "outputs": [],
   "source": [
    "num_tweets_correctly_predicted2 = 395+356+536+341+417+489+455+450+428+423\n",
    "\n",
    "accuracy2 = round(num_tweets_correctly_predicted2 / total_num_of_tweets * 100,2)"
   ]
  },
  {
   "cell_type": "code",
   "execution_count": 13,
   "metadata": {},
   "outputs": [
    {
     "data": {
      "text/plain": [
       "79.22"
      ]
     },
     "execution_count": 13,
     "metadata": {},
     "output_type": "execute_result"
    }
   ],
   "source": [
    "accuracy2  #less that accuracy of dataset1"
   ]
  },
  {
   "cell_type": "code",
   "execution_count": null,
   "metadata": {},
   "outputs": [],
   "source": []
  }
 ],
 "metadata": {
  "kernelspec": {
   "display_name": "Python 3",
   "language": "python",
   "name": "python3"
  },
  "language_info": {
   "codemirror_mode": {
    "name": "ipython",
    "version": 3
   },
   "file_extension": ".py",
   "mimetype": "text/x-python",
   "name": "python",
   "nbconvert_exporter": "python",
   "pygments_lexer": "ipython3",
   "version": "3.7.0"
  }
 },
 "nbformat": 4,
 "nbformat_minor": 2
}
